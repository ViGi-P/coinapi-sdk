{
 "cells": [
  {
   "cell_type": "markdown",
   "id": "114a3ba1",
   "metadata": {},
   "source": [
    "\n",
    "# Visualizing Live FX Rates: Plotting Currency Data from FinFeedAPI\n",
    "\n",
    "This beginner-friendly tutorial will teach you how to fetch **real-time currency data** from the [FinFeedAPI](https://docs.finfeedapi.com/currencies-api/rest-api-realtime/fx-realtime-rest-api) and display it in a **live-updating chart** using Python.\n",
    "\n",
    "---\n"
   ]
  },
  {
   "cell_type": "markdown",
   "id": "c325203b",
   "metadata": {},
   "source": [
    "\n",
    "## Requirements\n",
    "\n",
    "Make sure you have Python 3.8+ installed, and install these packages:\n",
    "\n",
    "```bash\n",
    "pip install requests matplotlib\n",
    "\n",
    "```\n"
   ]
  },
  {
   "cell_type": "markdown",
   "id": "fd3f0b2b",
   "metadata": {},
   "source": [
    "\n",
    "## Step 1: Understand the API Endpoint\n",
    "\n",
    "We'll use the FinFeedAPI Real-Time Currencies API endpoint:\n",
    "\n",
    "**Endpoint:**\n",
    "```\n",
    "GET https://api-realtime.fx.finfeedapi.com/v1/exchangerate/:asset_id_base/:asset_id_quote\n",
    "```\n",
    "\n",
    "**Headers:**\n",
    "```\n",
    "X-APIBricks-Key: YOUR_API_KEY_HERE\n",
    "```\n",
    "\n",
    "Example response:\n",
    "```json\n",
    "{\n",
    "    \"time\": \"2025-10-22T12:31:21.9000000Z\",\n",
    "    \"asset_id_base\": \"USD\",\n",
    "    \"asset_id_quote\": \"EUR\",\n",
    "    \"rate\": 0.8631913623317651164477881965\n",
    "}\n",
    "```\n",
    "---\n"
   ]
  },
  {
   "cell_type": "markdown",
   "id": "c44185f6",
   "metadata": {},
   "source": [
    "\n",
    "## Step 2: Fetch Real-Time Data\n",
    "\n",
    "We'll use Python's `requests` library to fetch USD/EUR rates.\n"
   ]
  },
  {
   "cell_type": "code",
   "execution_count": null,
   "id": "139285fe",
   "metadata": {},
   "outputs": [],
   "source": [
    "\n",
    "import requests\n",
    "\n",
    "API_KEY = \"YOUR_API_KEY_HERE\"\n",
    "URL = \"https://api-realtime.fx.finfeedapi.com/v1/exchangerate/USD/EUR\"\n",
    "\n",
    "headers = {\"X-APIBricks-Key\": API_KEY}\n",
    "\n",
    "response = requests.get(URL, headers=headers)\n",
    "data = response.json()\n",
    "\n",
    "data\n"
   ]
  },
  {
   "cell_type": "markdown",
   "id": "e8324387",
   "metadata": {},
   "source": [
    "\n",
    "## Step 3: Plot Real-Time FX Rates\n",
    "\n",
    "In this step, we’ll create a single chart that will reflect the collected real-time USD/EUR exchange rates at a custom interval (for example, every 1 minute) over a defined duration (for example, 5 minutes).\n",
    "\n",
    "You can easily change how long the chart runs and how often new data points are fetched — making it flexible for testing different update frequencies or timeframes.\n",
    "\n",
    "The chart will automatically stop after the configured duration or when you manually interrupt the process (Ctrl + C).\n"
   ]
  },
  {
   "cell_type": "code",
   "execution_count": 6,
   "id": "0ba92b39",
   "metadata": {},
   "outputs": [
    {
     "name": "stdout",
     "output_type": "stream",
     "text": [
      "⏳ Processing your data... This will take about 5 minute(s).\n",
      "Fetching every 60 second(s) — please wait until the process completes.\n",
      "\n",
      "[13:47:41] Data point 1/5 collected → Rate: 0.862479138785833\n",
      "[13:48:42] Data point 2/5 collected → Rate: 0.8625684124572155\n",
      "[13:49:43] Data point 3/5 collected → Rate: 0.8625064148914583\n",
      "[13:50:43] Data point 4/5 collected → Rate: 0.8624543438231714\n",
      "[13:51:44] Data point 5/5 collected → Rate: 0.8625126142469859\n",
      "\n",
      "✅ Data collection complete! Generating your chart...\n"
     ]
    },
    {
     "data": {
      "image/png": "[encoded data removed]",
      "text/plain": [
       "<Figure size 640x480 with 1 Axes>"
      ]
     },
     "metadata": {},
     "output_type": "display_data"
    },
    {
     "name": "stdout",
     "output_type": "stream",
     "text": [
      "🎉 Done! Chart displayed above.\n"
     ]
    }
   ],
   "source": [
    "import requests\n",
    "import time\n",
    "from datetime import datetime, UTC\n",
    "import matplotlib.pyplot as plt\n",
    "\n",
    "# ====== USER CONFIGURATION ======\n",
    "total_minutes = 5        # total duration to run (e.g., 5 minutes)\n",
    "interval_seconds = 60    # how often to fetch new data (e.g., every 60 seconds)\n",
    "# ================================\n",
    "\n",
    "# --- Auto-calculated values (do not edit) ---\n",
    "total_seconds = total_minutes * 60\n",
    "num_iterations = int(total_seconds / interval_seconds)\n",
    "# --------------------------------------------\n",
    "\n",
    "timestamps = []  # time labels for X-axis\n",
    "rates = []       # FX rate values for Y-axis\n",
    "\n",
    "# Intro message for user clarity\n",
    "print(f\"⏳ Processing your data... This will take about {total_minutes} minute(s).\")\n",
    "print(f\"Fetching every {interval_seconds} second(s) — please wait until the process completes.\\n\")\n",
    "\n",
    "try:\n",
    "    for i in range(num_iterations):\n",
    "        response = requests.get(URL, headers=headers)\n",
    "        data = response.json()\n",
    "        rate = data.get(\"rate\")\n",
    "        current_time = datetime.now(UTC).strftime(\"%H:%M:%S\")\n",
    "\n",
    "        timestamps.append(current_time)\n",
    "        rates.append(rate)\n",
    "\n",
    "        print(f\"[{current_time}] Data point {i+1}/{num_iterations} collected → Rate: {rate}\")\n",
    "        \n",
    "        if i < num_iterations - 1:\n",
    "            time.sleep(interval_seconds)  # wait before next fetch\n",
    "\n",
    "    # Once all data is fetched, plot a single chart\n",
    "    print(\"\\n✅ Data collection complete! Generating your chart...\")\n",
    "\n",
    "    fig, ax = plt.subplots()\n",
    "    ax.scatter(timestamps, rates, s=50, color=\"blue\")\n",
    "    ax.set_title(\"USD/EUR Exchange Rate (Final Chart)\")\n",
    "    ax.set_xlabel(\"Time (UTC)\")\n",
    "    ax.set_ylabel(\"Exchange Rate\")\n",
    "    plt.xticks(rotation=45)\n",
    "    plt.setp(ax.get_xticklabels(), color=\"blue\")\n",
    "    plt.tight_layout()\n",
    "    plt.show()\n",
    "\n",
    "    print(\"🎉 Done! Chart displayed above.\")\n",
    "\n",
    "except KeyboardInterrupt:\n",
    "    print(\"\\n⏹️ Process stopped by user before completion.\")\n"
   ]
  },
  {
   "cell_type": "markdown",
   "id": "a6f8d2f2",
   "metadata": {},
   "source": [
    "\n",
    "## Step 4: Optional Enhancements\n",
    "\n",
    "Try changing the quote currency to plot different pairs, for example:\n",
    "```python\n",
    "URL = \"https://api-realtime.fx.finfeedapi.com/v1/exchangerate/USD/JPY\"\n",
    "```\n"
   ]
  },
  {
   "cell_type": "markdown",
   "id": "5477b4d5",
   "metadata": {},
   "source": [
    "\n",
    "## ✅ You Did It!\n",
    "\n",
    "You’ve successfully:\n",
    "- Connected to the FinFeed Real-Time API\n",
    "- Parsed live FX data\n",
    "- Plotted it dynamically using Matplotlib\n",
    "\n",
    "🎉 Congratulations on building your first **real-time currency chart!**\n"
   ]
  }
 ],
 "metadata": {
  "kernelspec": {
   "display_name": "venv (3.13.7)",
   "language": "python",
   "name": "python3"
  },
  "language_info": {
   "codemirror_mode": {
    "name": "ipython",
    "version": 3
   },
   "file_extension": ".py",
   "mimetype": "text/x-python",
   "name": "python",
   "nbconvert_exporter": "python",
   "pygments_lexer": "ipython3",
   "version": "3.13.7"
  }
 },
 "nbformat": 4,
 "nbformat_minor": 5
}
