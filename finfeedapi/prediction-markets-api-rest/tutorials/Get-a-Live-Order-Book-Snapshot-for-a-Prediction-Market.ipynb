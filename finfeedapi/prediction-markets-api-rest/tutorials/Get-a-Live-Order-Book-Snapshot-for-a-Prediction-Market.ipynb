{
 "cells": [
  {
   "cell_type": "markdown",
   "id": "1d637c89",
   "metadata": {},
   "source": [
    "\n",
    "# Get a Live Order Book Snapshot for a Prediction Market\n",
    "\n",
    "In this beginner-friendly tutorial, you’ll learn how to use the **FinFeedAPI Prediction Markets API**\n",
    "to fetch a **live order book** for a specific market and display the **best bid and ask prices**.\n",
    "\n",
    "You’ll see how to:\n",
    "1. Make an authenticated API call to the `/orderbook/:exchange_id/:market_id/current` endpoint.\n",
    "2. Parse and interpret bids and asks.\n",
    "3. Display the top of book (best bid and best ask) with their quantities.\n"
   ]
  },
  {
   "cell_type": "markdown",
   "id": "9b5a92d5",
   "metadata": {},
   "source": [
    "## Requirements\n",
    "\n",
    "Before starting this tutorial, make sure you have:\n",
    "\n",
    "### Prerequisites\n",
    "- **Python 3.8+** installed on your system\n",
    "- A valid **FinFeedAPI key** (sign up at [finfeedapi.com](https://finfeedapi.com))\n",
    "- Basic understanding of Python programming\n",
    "\n",
    "### Install Required Packages\n",
    "\n",
    "Install the required Python packages:\n",
    "\n",
    "```bash\n",
    "pip install requests\n",
    "```\n",
    "\n"
   ]
  },
  {
   "cell_type": "markdown",
   "id": "5cdf9b57",
   "metadata": {},
   "source": [
    "\n",
    "## Step 1 — Setup Environment and API Key\n",
    "\n",
    "We’ll import `requests`, configure your API key, and specify which exchange and market you want to inspect.\n"
   ]
  },
  {
   "cell_type": "code",
   "execution_count": null,
   "id": "b964dec3",
   "metadata": {},
   "outputs": [],
   "source": [
    "\n",
    "import requests\n",
    "import json\n",
    "\n",
    "API_KEY = \"YOUR_API_KEY_HERE\"  # Replace with your real key\n",
    "\n",
    "EXCHANGE_ID = \"POLYMARKET\"\n",
    "MARKET_ID = \"100-TARIFF-ON-CHINA-IN-EFFECT-BY-NOVEMBER-1_YES\"\n",
    "\n",
    "url = f\"https://api.prediction-markets.finfeedapi.com/v1/orderbook/{EXCHANGE_ID}/{MARKET_ID}/current\"\n",
    "\n",
    "headers = {\n",
    "    \"Authorization\": API_KEY\n",
    "}\n",
    "\n",
    "response = requests.get(url, headers=headers)\n",
    "print(\"Status code:\", response.status_code)\n"
   ]
  },
  {
   "cell_type": "markdown",
   "id": "953cc00c",
   "metadata": {},
   "source": [
    "\n",
    "## Step 2 — Parse and Preview the API Response\n",
    "\n",
    "Let’s print the raw response data to understand its structure — you’ll typically see `bids` and `asks` arrays.\n"
   ]
  },
  {
   "cell_type": "code",
   "execution_count": null,
   "id": "d3f7fe29",
   "metadata": {},
   "outputs": [],
   "source": [
    "\n",
    "if response.status_code == 200:\n",
    "    data = response.json()\n",
    "    print(json.dumps(data, indent=2))\n",
    "else:\n",
    "    print(\"Error fetching order book:\", response.text)\n"
   ]
  },
  {
   "cell_type": "markdown",
   "id": "241afdd8",
   "metadata": {},
   "source": [
    "\n",
    "## Step 3 — Display the Best Bid and Ask Prices\n",
    "\n",
    "We’ll extract the top bid and ask levels (the highest buy and lowest sell prices).\n"
   ]
  },
  {
   "cell_type": "code",
   "execution_count": 4,
   "id": "f0de6ec3",
   "metadata": {},
   "outputs": [
    {
     "name": "stdout",
     "output_type": "stream",
     "text": [
      "📘 Market: 100-TARIFF-ON-CHINA-IN-EFFECT-BY-NOVEMBER-1_YES\n",
      "💸 Best Bid: 0.148 (Size: 1106.31)\n",
      "💰 Best Ask: 0.149 (Size: 100)\n"
     ]
    }
   ],
   "source": [
    "if response.status_code == 200:\n",
    "    orderbook = response.json()\n",
    "    bids = orderbook.get(\"bids\", [])\n",
    "    asks = orderbook.get(\"asks\", [])\n",
    "\n",
    "    if bids and asks:\n",
    "        best_bid = bids[0]\n",
    "        best_ask = asks[0]\n",
    "\n",
    "        print(f\"📘 Market: {MARKET_ID}\")\n",
    "        print(f\"💸 Best Bid: {best_bid.get('price')} (Size: {best_bid.get('size')})\")\n",
    "        print(f\"💰 Best Ask: {best_ask.get('price')} (Size: {best_ask.get('size')})\")\n",
    "    else:\n",
    "        print(\"No bids or asks available for this market.\")\n",
    "else:\n",
    "    print(\"❌ Failed to retrieve order book data\")\n"
   ]
  },
  {
   "cell_type": "markdown",
   "id": "c6d72164",
   "metadata": {},
   "source": [
    "\n",
    "## ✅ Summary\n",
    "\n",
    "You’ve learned how to:\n",
    "- Make an authenticated API request to the **Order Book endpoint**\n",
    "- Parse `bids` and `asks` arrays from the response\n",
    "- Display the **top of book** (best bid/ask)\n",
    "\n",
    "### 💡 Next Steps\n",
    "- Plot the full bid/ask depth with `matplotlib`\n",
    "- Refresh data every few seconds for a live-updating chart\n",
    "- Compare multiple markets’ spreads or liquidity\n"
   ]
  }
 ],
 "metadata": {
  "kernelspec": {
   "display_name": "venv (3.13.7)",
   "language": "python",
   "name": "python3"
  },
  "language_info": {
   "codemirror_mode": {
    "name": "ipython",
    "version": 3
   },
   "file_extension": ".py",
   "mimetype": "text/x-python",
   "name": "python",
   "nbconvert_exporter": "python",
   "pygments_lexer": "ipython3",
   "version": "3.13.7"
  }
 },
 "nbformat": 4,
 "nbformat_minor": 5
}
